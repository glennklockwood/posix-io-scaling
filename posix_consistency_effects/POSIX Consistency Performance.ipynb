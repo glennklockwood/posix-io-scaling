{
 "cells": [
  {
   "cell_type": "markdown",
   "metadata": {},
   "source": [
    "# POSIX Consistency Performance\n",
    "\n",
    "Analyze the results of an ensemble of IOR tests that demonstrate the performance loss at small transfer sizes that result from enforcing strict POSIX consistency.  The IOR jobs themselves ran under the following conditions:\n",
    "\n",
    "1. DataWarp (lock-free, no cache) shared file\n",
    "2. DataWarp (lock-free, no cache) file per process\n",
    "3. Lustre (locking, cache) shared file\n",
    "4. Lustre (locking, cache) file per process\n",
    "\n",
    "Both instances of DataWarp represent lock-free and no-cache implementations of strong consistency, and their results are similar.  However we use the Lustre shared file to illustrate lock contention for transfers less than the lock granularity used (1 MiB), and we contrast that with Lustre file pr process to show the benefits of caching in the absence of lock contention.  Although Lustre file per process does still use locking, there is no contention and we can use it to approximate the behavior of fully lockless I/O.\n",
    "\n",
    "All of the jobs which this script analyzes were run on the Cori TDS (Gerty) system at NERSC using eight Haswell nodes, two DataWarp nodes, and four Lustre OSSes."
   ]
  },
  {
   "cell_type": "code",
   "execution_count": null,
   "metadata": {
    "collapsed": true
   },
   "outputs": [],
   "source": [
    "%matplotlib inline"
   ]
  },
  {
   "cell_type": "code",
   "execution_count": null,
   "metadata": {
    "collapsed": false
   },
   "outputs": [],
   "source": [
    "import re\n",
    "import glob\n",
    "import pandas\n",
    "import matplotlib\n",
    "import matplotlib.pyplot as plt\n",
    "matplotlib.rcParams.update({'font.size': 18})"
   ]
  },
  {
   "cell_type": "code",
   "execution_count": null,
   "metadata": {
    "collapsed": true
   },
   "outputs": [],
   "source": [
    "REX_RESULT = re.compile('^write.*(MPIIO|POSIX)')\n",
    "REX_USE_DW = re.compile('^\\s*test filename\\s*=.*cray.*dws')\n",
    "FILE_MODES = [ 'ssf', 'fpp' ]"
   ]
  },
  {
   "cell_type": "code",
   "execution_count": null,
   "metadata": {
    "collapsed": false
   },
   "outputs": [],
   "source": [
    "### Parse all IOR output files\n",
    "results = []\n",
    "for output_file in glob.glob('out.*'):\n",
    "    target_fs = 'lustre'\n",
    "    with open(output_file, 'r') as fp:\n",
    "        for line in fp:\n",
    "            ### extract the file system\n",
    "            match = REX_USE_DW.search(line)\n",
    "            if match is not None:\n",
    "                target_fs = 'datawarp'\n",
    "                continue\n",
    "            ### extract the performance, sff/fpp, and transfer size\n",
    "            match = REX_RESULT.search(line)\n",
    "            if match is not None:\n",
    "                fields = line.split()\n",
    "                mean_rate = float(fields[3])\n",
    "                file_mode = int(fields[10])\n",
    "                xfer_size = int(fields[17])\n",
    "                results.append((target_fs, FILE_MODES[file_mode], xfer_size, mean_rate))"
   ]
  },
  {
   "cell_type": "code",
   "execution_count": null,
   "metadata": {
    "collapsed": false
   },
   "outputs": [],
   "source": [
    "### Convert list of tuples into a multiindexed dataframe\n",
    "index = pandas.MultiIndex.from_tuples([i[0:3] for i in results], names=['target_fs', 'file_mode', 'xfer_size'])\n",
    "df = pandas.DataFrame([i[3] for i in results], index=index, columns=['performance'])"
   ]
  },
  {
   "cell_type": "code",
   "execution_count": null,
   "metadata": {
    "collapsed": false
   },
   "outputs": [],
   "source": [
    "df_plot = pandas.DataFrame()\n",
    "for target_fs, sub_df in df.groupby(level='target_fs'):\n",
    "    for file_mode, sub_sub_df in sub_df.groupby(level='file_mode'):\n",
    "        tmp_df = sub_sub_df.reset_index()[['xfer_size','performance']] \\\n",
    "                           .sort_values(by='xfer_size') \\\n",
    "                           .set_index('xfer_size')\n",
    "        label = target_fs + \",\" + file_mode\n",
    "        if df_plot is None:\n",
    "            df_plot = pandas.DataFrame(index=tmp_df.index)\n",
    "        df_plot[label] = tmp_df['performance'] / tmp_df['performance'].max()"
   ]
  },
  {
   "cell_type": "code",
   "execution_count": null,
   "metadata": {
    "collapsed": false
   },
   "outputs": [],
   "source": [
    "fig, ax = plt.subplots()\n",
    "fig.set_size_inches(10, 6)\n",
    "fig.suptitle(\"Performance of POSIX/Non-POSIX Writes\")\n",
    "ax.set_xscale('log', basex=2)\n",
    "\n",
    "df_plot.plot(ax=ax, marker='o', linestyle='-', linewidth=3, markersize=10)\n",
    "\n",
    "ax.grid()\n",
    "ax.set_xlabel(\"Transfer Size (bytes)\")\n",
    "ax.set_ylabel(\"Fraction Peak Performance\")\n",
    "\n",
    "### Redo the labels to correspond to the accompanying text\n",
    "convert_labels = {\n",
    "    \"datawarp,fpp\": \"Option #1:\\nNo Cache/No Locks\",\n",
    "    \"lustre,fpp\": \"Violate POSIX\\n(Cache+Lockless)\",\n",
    "    \"lustre,ssf\": \"Option #4:\\nCache+Locks\"\n",
    "}\n",
    "### Also reorder the labels for clarity in the explanation\n",
    "new_labels = []\n",
    "handles, labels = ax.get_legend_handles_labels()\n",
    "for idx, label in enumerate(labels):\n",
    "    labels[idx] = convert_labels[label]\n",
    "    ### Also differentiate between POSIX and non-POSIX cases\n",
    "    if \"Violate\" not in convert_labels[label]:\n",
    "        handles[idx].set_linestyle(\"--\")\n",
    "    else:\n",
    "        handles[idx].set_linewidth(4)\n",
    "        handles[idx].set_markersize(12)\n",
    "new_order = [i for i, j in sorted(enumerate(labels),\n",
    "                                  key=lambda x:x[1],\n",
    "                                  reverse=False)]\n",
    "### Apply newly minted labels\n",
    "ax.legend(handles=[handles[i] for i in new_order],\n",
    "          labels=[labels[i] for i in new_order],\n",
    "          prop={'size':16})\n",
    "\n",
    "### Change x axis labels to be human-readable\n",
    "labels = ax.get_xticks().tolist()\n",
    "for idx, label in enumerate(labels):\n",
    "    if label > 2**30:\n",
    "        labels[idx] = \"%d GiB\" % (label / 2**30)\n",
    "    elif label > 2**20:\n",
    "        labels[idx] = \"%d MiB\" % (label / 2**20)\n",
    "    elif label > 2**10:\n",
    "        labels[idx] = \"%d KiB\" % (label / 2**10)\n",
    "    else:\n",
    "        labels[idx] = \"%d\" % label\n",
    "ax.set_xlabel(\"Transfer Size\")\n",
    "\n",
    "ax.set_xticklabels(labels)\n",
    "\n",
    "### Legend is big, so give it a little more room\n",
    "ylim = ax.get_ylim()\n",
    "ax.set_ylim((-0.1, ylim[1]*1.0))\n",
    "xlim = ax.get_xlim()\n",
    "ax.set_xlim((xlim[0], xlim[1]*1.5))\n",
    "fig.savefig('consistency-performance.png', dpi=200)"
   ]
  },
  {
   "cell_type": "code",
   "execution_count": null,
   "metadata": {
    "collapsed": true
   },
   "outputs": [],
   "source": []
  }
 ],
 "metadata": {
  "kernelspec": {
   "display_name": "Python 2",
   "language": "python",
   "name": "python2"
  },
  "language_info": {
   "codemirror_mode": {
    "name": "ipython",
    "version": 2
   },
   "file_extension": ".py",
   "mimetype": "text/x-python",
   "name": "python",
   "nbconvert_exporter": "python",
   "pygments_lexer": "ipython2",
   "version": "2.7.13"
  }
 },
 "nbformat": 4,
 "nbformat_minor": 2
}
