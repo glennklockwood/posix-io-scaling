{
 "cells": [
  {
   "cell_type": "markdown",
   "metadata": {},
   "source": [
    "# POSIX Statefulness' Impact on Performance\n",
    "\n",
    "Analyze the results of an ensemble of IOR tests that demonstrate how the time it takes to open a file for parallel I/O scales linearly with the number of concurrent clients.  This script analyzes an ensemble of IOR jobs that opened files for read, did no I/O, then closed them.  It ran on the Cori system at NERSC using its Knight's Landing nodes."
   ]
  },
  {
   "cell_type": "code",
   "execution_count": null,
   "metadata": {
    "collapsed": true
   },
   "outputs": [],
   "source": [
    "%matplotlib inline"
   ]
  },
  {
   "cell_type": "code",
   "execution_count": null,
   "metadata": {
    "collapsed": true
   },
   "outputs": [],
   "source": [
    "import re\n",
    "import glob\n",
    "import pandas\n",
    "import matplotlib\n",
    "import matplotlib.pyplot as plt\n",
    "matplotlib.rcParams.update({'font.size': 18})\n",
    "import numpy as np"
   ]
  },
  {
   "cell_type": "code",
   "execution_count": null,
   "metadata": {
    "collapsed": true
   },
   "outputs": [],
   "source": [
    "REX_RESULT = re.compile('^read((?!POSIX).)*$')\n",
    "REX_CLIENTS = re.compile('^\\s*clients\\s*=\\s*(\\d+)[^\\d]+(\\d+)\\s+per node')\n",
    "FILE_MODES = [ 'ssf', 'fpp' ]"
   ]
  },
  {
   "cell_type": "code",
   "execution_count": null,
   "metadata": {
    "collapsed": true
   },
   "outputs": [],
   "source": [
    "### Parse all IOR output files\n",
    "raw_data = {}\n",
    "for output_file in glob.glob('ior-r.*x64_*.out'):\n",
    "    with open(output_file, 'r') as fp:\n",
    "        t_open = 0.0\n",
    "        t_close = 0.0\n",
    "        n_found = 0\n",
    "        for line in fp:\n",
    "            ### client concurrency\n",
    "            match = REX_CLIENTS.search(line)\n",
    "            if match is not None:\n",
    "                num_clients = int(match.group(1))\n",
    "                num_ppn = int(match.group(2))\n",
    "            ### extract the performance for opens and closes\n",
    "            match = REX_RESULT.search(line)\n",
    "            if match is not None:\n",
    "                fields = line.split()\n",
    "                t_open = float(fields[4])\n",
    "                t_close = float(fields[6])\n",
    "                num_nodes = num_clients / num_ppn\n",
    "                if num_nodes not in raw_data:\n",
    "                    raw_data[num_nodes] = {\n",
    "                        'sum_open_time': 0.0,\n",
    "                        'sum_close_time': 0.0,\n",
    "                        'sum2_open_time': 0.0,\n",
    "                        'sum2_close_time': 0.0,\n",
    "                        'num_measurements': 0\n",
    "                    }\n",
    "                raw_data[num_nodes]['sum_open_time'] += t_open\n",
    "                raw_data[num_nodes]['sum_close_time'] += t_close\n",
    "                raw_data[num_nodes]['sum2_open_time'] += t_open * t_open\n",
    "                raw_data[num_nodes]['sum2_close_time'] += t_close * t_close\n",
    "                raw_data[num_nodes]['num_measurements'] += 1"
   ]
  },
  {
   "cell_type": "code",
   "execution_count": null,
   "metadata": {},
   "outputs": [],
   "source": [
    "### normalize y relative to the single-node performance\n",
    "df = pandas.DataFrame.from_dict(data=raw_data, orient='index')\n",
    "df.index.name = 'clients'\n",
    "for op in 'open', 'close':\n",
    "    avg   = df['sum_'+op+'_time']  / df['num_measurements']\n",
    "    stdev = df['sum2_'+op+'_time'] / df['num_measurements']\n",
    "    stdev = stdev - avg*avg\n",
    "    stdev = stdev**0.5\n",
    "    \n",
    "    df['avg_'+op+'_time'] = avg\n",
    "    df['stdev_'+op+'_time'] = stdev\n",
    "    df['rel_'+op+'_time'] = df['avg_'+op+'_time'] / df['avg_'+op+'_time'].loc[min(df.index)]\n",
    "    df['rel_stdev_'+op+'_time'] = df['stdev_'+op+'_time'] / df['avg_'+op+'_time'] / df['avg_'+op+'_time'].loc[min(df.index)]\n",
    "\n",
    "df.tail()"
   ]
  },
  {
   "cell_type": "code",
   "execution_count": null,
   "metadata": {
    "scrolled": false
   },
   "outputs": [],
   "source": [
    "fig, ax = plt.subplots()\n",
    "fig.set_size_inches(10, 6)\n",
    "fig.suptitle(\"Performance of Concurrent File Opens\")\n",
    "\n",
    "df_plot = df[df['rel_open_time'].index > 8]['rel_open_time']\n",
    "df_err = df[df['rel_stdev_open_time'].index > 8]['rel_stdev_open_time']\n",
    "\n",
    "### linear fit\n",
    "fit = np.polyfit(df_plot.index, df_plot.values, deg=1)\n",
    "ax.plot(df_plot.index,\n",
    "        fit[0] * df_plot.index + fit[1],\n",
    "        linestyle='--',\n",
    "        color='#000000')\n",
    "\n",
    "### error bars (+/- stdev)\n",
    "ax.errorbar(df_plot.index,\n",
    "            df_plot.values,\n",
    "            yerr=df_err.values,\n",
    "            fmt='o',\n",
    "            markersize=0,\n",
    "            capsize=4,\n",
    "            color='#00000044')\n",
    "\n",
    "### plot actual points on top of linear fit\n",
    "df_plot.plot(\n",
    "        ax=ax,\n",
    "        marker='o',\n",
    "        linestyle='',\n",
    "        linewidth=3,\n",
    "        markersize=10)\n",
    "\n",
    "### make the plot pretty\n",
    "ax.legend().remove()\n",
    "ax.grid()\n",
    "ax.set_xlabel(\"Concurrent Client Nodes\")\n",
    "ax.set_ylabel(\"Performance Relative to Single-Node\")\n",
    "ax.set_xticks([32, 128, 256, 512])\n",
    "ax.set_xlim([0,520])\n",
    "ax.set_ylim([0,35])\n",
    "\n",
    "\n",
    "fig.savefig('open-performance.png', dpi=200)"
   ]
  },
  {
   "cell_type": "code",
   "execution_count": null,
   "metadata": {
    "collapsed": true
   },
   "outputs": [],
   "source": []
  }
 ],
 "metadata": {
  "kernelspec": {
   "display_name": "Python 2",
   "language": "python",
   "name": "python2"
  },
  "language_info": {
   "codemirror_mode": {
    "name": "ipython",
    "version": 2
   },
   "file_extension": ".py",
   "mimetype": "text/x-python",
   "name": "python",
   "nbconvert_exporter": "python",
   "pygments_lexer": "ipython2",
   "version": "2.7.13"
  }
 },
 "nbformat": 4,
 "nbformat_minor": 2
}
